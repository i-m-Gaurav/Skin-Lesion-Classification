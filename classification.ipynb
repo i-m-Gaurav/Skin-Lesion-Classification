import matplotlib.pyplot as plt
import numpy as np
import pandas as pd
import os
from glob import glob
import seaborn as sns
from PIL import Image
import tensorflow as tf
from tensorflow.keras.utils import to_categorical
from tensorflow.keras.models import Sequential
from tensorflow.keras.layers import Dense, Dropout, Flatten, Conv2D, MaxPool2D, BatchNormalization
from sklearn.model_selection import train_test_split
from sklearn.preprocessing import LabelEncoder
from sklearn.metrics import confusion_matrix
from sklearn.utils import resample

# Supress FutureWarnings
import warnings
warnings.simplefilter(action='ignore', category=FutureWarning)

np.random.seed(42)

# Assuming the data is in 'data/HAM10000/HAM10000_metadata.csv'
skin_df = pd.read_csv('data/HAM10000/HAM10000_metadata.csv')

SIZE = 32

# Label encoding
le = LabelEncoder()
le.fit(skin_df['dx'])
skin_df['label'] = le.transform(skin_df["dx"])

# Data distribution visualization
fig = plt.figure(figsize=(12, 8))
ax1 = fig.add_subplot(221)
skin_df['dx'].value_counts().plot(kind='bar', ax=ax1)
ax1.set_ylabel('Count')
ax1.set_title('Cell Type')
ax2 = fig.add_subplot(222)
skin_df['sex'].value_counts().plot(kind='bar', ax=ax2)
ax2.set_ylabel('Count')
ax2.set_title('Sex')
ax3 = fig.add_subplot(223)
skin_df['localization'].value_counts().plot(kind='bar', ax=ax3)
ax3.set_ylabel('Count')
ax3.set_title('Localization')
ax4 = fig.add_subplot(224)
sample_age = skin_df[pd.notnull(skin_df['age'])]
sns.histplot(sample_age['age'], kde=True, color='red')
ax4.set_title('Age')
plt.tight_layout()
plt.show()

# Balance data
n_samples = 400
df_list = [resample(skin_df[skin_df['label'] == i], replace=True, n_samples=n_samples, random_state=42) for i in range(7)]
skin_df_balanced = pd.concat(df_list)

# Reading images
image_path = {os.path.splitext(os.path.basename(x))[0]: x for x in glob(os.path.join('data/HAM10000/', '*', '*.jpg'))}
skin_df_balanced['path'] = skin_df_balanced['image_id'].map(image_path.get)
skin_df_balanced['image'] = skin_df_balanced['path'].map(lambda x: np.asarray(Image.open(x).resize((SIZE, SIZE))))

# Plotting images
n_samples = 5
fig, m_axs = plt.subplots(7, n_samples, figsize=(4 * n_samples, 3 * 7))
for n_axs, (type_name, type_rows) in zip(m_axs, skin_df_balanced.sort_values(['dx']).groupby('dx')):
    n_axs[0].set_title(type_name)
    for c_ax, (_, c_row) in zip(n_axs, type_rows.sample(n_samples, random_state=1234).iterrows()):
        c_ax.imshow(c_row['image'])
        c_ax.axis('off')

# Preparing data
X = np.asarray(skin_df_balanced['image'].tolist()) / 255.
Y = skin_df_balanced['label']
Y_cat = to_categorical(Y, num_classes=7)
x_train, x_test, y_train, y_test = train_test_split(X, Y_cat, test_size=0.25, random_state=42)

# Model
model = Sequential()
model.add(Conv2D(64, (3, 3), activation="relu", input_shape=(SIZE, SIZE, 3)))
model.add(Conv2D(64, (3, 3), activation="relu"))
model.add(MaxPool2D(pool_size=(2, 2)))
model.add(BatchNormalization())

model.add(Conv2D(128, (3, 3), activation='relu'))
model.add(Conv2D(128, (3, 3), activation='relu'))
model.add(MaxPool2D(pool_size=(2, 2)))
model.add(BatchNormalization())

# Flatten layer
model.add(Flatten())

# Fully connected layers
model.add(Dense(256, activation='relu'))
model.add(Dropout(0.5))
model.add(Dense(128, activation='relu'))
model.add(Dropout(0.5))
model.add(Dense(7, activation='softmax'))
model.summary()
model.compile(loss='categorical_crossentropy', optimizer='Adam', metrics=['acc'])

# Training
batch_size = 16
epochs = 100
history = model.fit(x_train, y_train, epochs=epochs, batch_size=batch_size, validation_data=(x_test, y_test), verbose=2)

# Evaluation
score = model.evaluate(x_test, y_test)
print('Test accuracy:', score[1])

# Plot training history
def plot_history(history, metric):
    plt.plot(history.history[metric])
    plt.plot(history.history['val_' + metric])
    plt.title('model ' + metric)
    plt.ylabel(metric)
    plt.xlabel('epoch')
    plt.legend(['train', 'validation'], loc='upper left')
    plt.show()

plot_history(history, 'loss')
plot_history(history, 'acc')

# Predictions
y_pred = model.predict(x_test)
y_pred_classes = np.argmax(y_pred, axis=1)
y_true = np.argmax(y_test, axis=1)

# Confusion matrix
cm = confusion_matrix(y_true, y_pred_classes)
fig, ax = plt.subplots(figsize=(6, 6))
sns.heatmap(cm, annot=True, linewidths=.5, ax=ax)

# Incorrect predictions
incorr_fraction = 1 - np.diag(cm) / np.sum(cm, axis=1)
plt.bar(np.arange(7), incorr_fraction)
plt.xlabel('True Label')
plt.ylabel('Fraction of incorrect predictions')

# Class names
class_names = ['Melanocytic nevi', 'Melanoma', 'Benign keratosis-like lesions', 'Basal cell carcinoma', 'Actinic keratoses', 'Vascular lesions', 'Dermatofibroma']

# Function to load and preprocess image
def load_and_preprocess_image(image_path):
    img = Image.open(image_path)
    img = img.resize((SIZE, SIZE))
    img = np.asarray(img) / 255.
    img = np.expand_dims(img, axis=0)
    return img

# Function to predict skin cancer type
def predict_skin_cancer(model, img_path):
    img = load_and_preprocess_image(img_path)
    prediction = model.predict(img)
    predicted_class = np.argmax(prediction, axis=1)
    return class_names[predicted_class[0]]

# Example usage
image_path = "data\HAM10000\HAM10000_images_part_2\ISIC_0032917.jpg" # Replace with the path to your test image
result = predict_skin_cancer(model, image_path)
print(f"The image is predicted to be: {result}") 
